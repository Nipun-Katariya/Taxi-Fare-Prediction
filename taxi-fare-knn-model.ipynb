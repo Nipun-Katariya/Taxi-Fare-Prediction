{
 "cells": [
  {
   "cell_type": "code",
   "execution_count": 1,
   "id": "49dcc3b2",
   "metadata": {
    "_cell_guid": "b1076dfc-b9ad-4769-8c92-a6c4dae69d19",
    "_uuid": "8f2839f25d086af736a60e9eeb907d3b93b6e0e5",
    "execution": {
     "iopub.execute_input": "2023-10-26T18:16:31.442071Z",
     "iopub.status.busy": "2023-10-26T18:16:31.441553Z",
     "iopub.status.idle": "2023-10-26T18:16:32.730015Z",
     "shell.execute_reply": "2023-10-26T18:16:32.728840Z"
    },
    "papermill": {
     "duration": 1.302896,
     "end_time": "2023-10-26T18:16:32.733056",
     "exception": false,
     "start_time": "2023-10-26T18:16:31.430160",
     "status": "completed"
    },
    "tags": []
   },
   "outputs": [
    {
     "name": "stdout",
     "output_type": "stream",
     "text": [
      "/kaggle/input/taxi-fare-guru-total-amount-prediction-challenge/sample.csv.csv\n",
      "/kaggle/input/taxi-fare-guru-total-amount-prediction-challenge/train.csv\n",
      "/kaggle/input/taxi-fare-guru-total-amount-prediction-challenge/test.csv\n"
     ]
    }
   ],
   "source": [
    "# This Python 3 environment comes with many helpful analytics libraries installed\n",
    "# It is defined by the kaggle/python Docker image: https://github.com/kaggle/docker-python\n",
    "# For example, here's several helpful packages to load\n",
    "\n",
    "import numpy as np # linear algebra\n",
    "import pandas as pd # data processing, CSV file I/O (e.g. pd.read_csv)\n",
    "training_data = pd.read_csv(\"/kaggle/input/taxi-fare-guru-total-amount-prediction-challenge/train.csv\")\n",
    "training_data.head()\n",
    "# Input data files are available in the read-only \"../input/\" directory\n",
    "# For example, running this (by clicking run or pressing Shift+Enter) will list all files under the input directory\n",
    "\n",
    "import os\n",
    "for dirname, _, filenames in os.walk('/kaggle/input'):\n",
    "    for filename in filenames:\n",
    "        print(os.path.join(dirname, filename))\n",
    "\n",
    "# You can write up to 20GB to the current directory (/kaggle/working/) that gets preserved as output when you create a version using \"Save & Run All\" \n",
    "# You can also write temporary files to /kaggle/temp/, but they won't be saved outside of the current session"
   ]
  },
  {
   "cell_type": "code",
   "execution_count": 2,
   "id": "34498ab2",
   "metadata": {
    "execution": {
     "iopub.execute_input": "2023-10-26T18:16:32.752181Z",
     "iopub.status.busy": "2023-10-26T18:16:32.751785Z",
     "iopub.status.idle": "2023-10-26T18:16:33.440375Z",
     "shell.execute_reply": "2023-10-26T18:16:33.438895Z"
    },
    "papermill": {
     "duration": 0.701629,
     "end_time": "2023-10-26T18:16:33.443348",
     "exception": false,
     "start_time": "2023-10-26T18:16:32.741719",
     "status": "completed"
    },
    "tags": []
   },
   "outputs": [
    {
     "data": {
      "text/html": [
       "<div>\n",
       "<style scoped>\n",
       "    .dataframe tbody tr th:only-of-type {\n",
       "        vertical-align: middle;\n",
       "    }\n",
       "\n",
       "    .dataframe tbody tr th {\n",
       "        vertical-align: top;\n",
       "    }\n",
       "\n",
       "    .dataframe thead th {\n",
       "        text-align: right;\n",
       "    }\n",
       "</style>\n",
       "<table border=\"1\" class=\"dataframe\">\n",
       "  <thead>\n",
       "    <tr style=\"text-align: right;\">\n",
       "      <th></th>\n",
       "      <th>VendorID</th>\n",
       "      <th>tpep_pickup_datetime</th>\n",
       "      <th>tpep_dropoff_datetime</th>\n",
       "      <th>passenger_count</th>\n",
       "      <th>trip_distance</th>\n",
       "      <th>RatecodeID</th>\n",
       "      <th>store_and_fwd_flag</th>\n",
       "      <th>PULocationID</th>\n",
       "      <th>DOLocationID</th>\n",
       "      <th>payment_type</th>\n",
       "      <th>extra</th>\n",
       "      <th>tip_amount</th>\n",
       "      <th>tolls_amount</th>\n",
       "      <th>improvement_surcharge</th>\n",
       "      <th>total_amount</th>\n",
       "      <th>congestion_surcharge</th>\n",
       "      <th>Airport_fee</th>\n",
       "    </tr>\n",
       "  </thead>\n",
       "  <tbody>\n",
       "    <tr>\n",
       "      <th>0</th>\n",
       "      <td>1</td>\n",
       "      <td>2023-06-28 17:20:21</td>\n",
       "      <td>2023-06-28 16:34:45</td>\n",
       "      <td>1.0</td>\n",
       "      <td>2.14</td>\n",
       "      <td>1.0</td>\n",
       "      <td>N</td>\n",
       "      <td>120</td>\n",
       "      <td>9</td>\n",
       "      <td>Credit Card</td>\n",
       "      <td>2.5</td>\n",
       "      <td>7.165589</td>\n",
       "      <td>0.0</td>\n",
       "      <td>1.0</td>\n",
       "      <td>20.64</td>\n",
       "      <td>2.5</td>\n",
       "      <td>0.0</td>\n",
       "    </tr>\n",
       "    <tr>\n",
       "      <th>1</th>\n",
       "      <td>0</td>\n",
       "      <td>2023-06-29 23:05:01</td>\n",
       "      <td>2023-06-29 22:01:35</td>\n",
       "      <td>1.0</td>\n",
       "      <td>2.70</td>\n",
       "      <td>1.0</td>\n",
       "      <td>N</td>\n",
       "      <td>15</td>\n",
       "      <td>215</td>\n",
       "      <td>Credit Card</td>\n",
       "      <td>3.5</td>\n",
       "      <td>6.067401</td>\n",
       "      <td>0.0</td>\n",
       "      <td>1.0</td>\n",
       "      <td>25.55</td>\n",
       "      <td>2.5</td>\n",
       "      <td>0.0</td>\n",
       "    </tr>\n",
       "    <tr>\n",
       "      <th>2</th>\n",
       "      <td>1</td>\n",
       "      <td>2023-06-30 10:19:31</td>\n",
       "      <td>2023-06-30 11:13:10</td>\n",
       "      <td>1.0</td>\n",
       "      <td>1.15</td>\n",
       "      <td>1.0</td>\n",
       "      <td>N</td>\n",
       "      <td>167</td>\n",
       "      <td>223</td>\n",
       "      <td>Credit Card</td>\n",
       "      <td>0.0</td>\n",
       "      <td>4.111547</td>\n",
       "      <td>0.0</td>\n",
       "      <td>1.0</td>\n",
       "      <td>17.64</td>\n",
       "      <td>2.5</td>\n",
       "      <td>0.0</td>\n",
       "    </tr>\n",
       "    <tr>\n",
       "      <th>3</th>\n",
       "      <td>0</td>\n",
       "      <td>2023-06-29 13:23:09</td>\n",
       "      <td>2023-06-29 14:20:01</td>\n",
       "      <td>1.0</td>\n",
       "      <td>0.40</td>\n",
       "      <td>1.0</td>\n",
       "      <td>N</td>\n",
       "      <td>128</td>\n",
       "      <td>239</td>\n",
       "      <td>Credit Card</td>\n",
       "      <td>2.5</td>\n",
       "      <td>6.411079</td>\n",
       "      <td>0.0</td>\n",
       "      <td>1.0</td>\n",
       "      <td>12.80</td>\n",
       "      <td>2.5</td>\n",
       "      <td>0.0</td>\n",
       "    </tr>\n",
       "    <tr>\n",
       "      <th>4</th>\n",
       "      <td>1</td>\n",
       "      <td>2023-06-29 22:03:32</td>\n",
       "      <td>2023-06-29 22:22:22</td>\n",
       "      <td>3.0</td>\n",
       "      <td>1.10</td>\n",
       "      <td>1.0</td>\n",
       "      <td>N</td>\n",
       "      <td>203</td>\n",
       "      <td>52</td>\n",
       "      <td>Credit Card</td>\n",
       "      <td>1.0</td>\n",
       "      <td>4.769377</td>\n",
       "      <td>0.0</td>\n",
       "      <td>1.0</td>\n",
       "      <td>18.00</td>\n",
       "      <td>2.5</td>\n",
       "      <td>0.0</td>\n",
       "    </tr>\n",
       "  </tbody>\n",
       "</table>\n",
       "</div>"
      ],
      "text/plain": [
       "   VendorID tpep_pickup_datetime tpep_dropoff_datetime  passenger_count  \\\n",
       "0         1  2023-06-28 17:20:21   2023-06-28 16:34:45              1.0   \n",
       "1         0  2023-06-29 23:05:01   2023-06-29 22:01:35              1.0   \n",
       "2         1  2023-06-30 10:19:31   2023-06-30 11:13:10              1.0   \n",
       "3         0  2023-06-29 13:23:09   2023-06-29 14:20:01              1.0   \n",
       "4         1  2023-06-29 22:03:32   2023-06-29 22:22:22              3.0   \n",
       "\n",
       "   trip_distance  RatecodeID store_and_fwd_flag  PULocationID  DOLocationID  \\\n",
       "0           2.14         1.0                  N           120             9   \n",
       "1           2.70         1.0                  N            15           215   \n",
       "2           1.15         1.0                  N           167           223   \n",
       "3           0.40         1.0                  N           128           239   \n",
       "4           1.10         1.0                  N           203            52   \n",
       "\n",
       "  payment_type  extra  tip_amount  tolls_amount  improvement_surcharge  \\\n",
       "0  Credit Card    2.5    7.165589           0.0                    1.0   \n",
       "1  Credit Card    3.5    6.067401           0.0                    1.0   \n",
       "2  Credit Card    0.0    4.111547           0.0                    1.0   \n",
       "3  Credit Card    2.5    6.411079           0.0                    1.0   \n",
       "4  Credit Card    1.0    4.769377           0.0                    1.0   \n",
       "\n",
       "   total_amount  congestion_surcharge  Airport_fee  \n",
       "0         20.64                   2.5          0.0  \n",
       "1         25.55                   2.5          0.0  \n",
       "2         17.64                   2.5          0.0  \n",
       "3         12.80                   2.5          0.0  \n",
       "4         18.00                   2.5          0.0  "
      ]
     },
     "execution_count": 2,
     "metadata": {},
     "output_type": "execute_result"
    }
   ],
   "source": [
    "training_data = pd.read_csv(\"/kaggle/input/taxi-fare-guru-total-amount-prediction-challenge/train.csv\")\n",
    "training_data.head()"
   ]
  },
  {
   "cell_type": "code",
   "execution_count": 3,
   "id": "5a1207bc",
   "metadata": {
    "execution": {
     "iopub.execute_input": "2023-10-26T18:16:33.463130Z",
     "iopub.status.busy": "2023-10-26T18:16:33.462668Z",
     "iopub.status.idle": "2023-10-26T18:16:33.471464Z",
     "shell.execute_reply": "2023-10-26T18:16:33.470205Z"
    },
    "papermill": {
     "duration": 0.021742,
     "end_time": "2023-10-26T18:16:33.474149",
     "exception": false,
     "start_time": "2023-10-26T18:16:33.452407",
     "status": "completed"
    },
    "tags": []
   },
   "outputs": [
    {
     "data": {
      "text/plain": [
       "(175000, 17)"
      ]
     },
     "execution_count": 3,
     "metadata": {},
     "output_type": "execute_result"
    }
   ],
   "source": [
    "training_data.shape"
   ]
  },
  {
   "cell_type": "code",
   "execution_count": 4,
   "id": "a91c008b",
   "metadata": {
    "execution": {
     "iopub.execute_input": "2023-10-26T18:16:33.495019Z",
     "iopub.status.busy": "2023-10-26T18:16:33.494616Z",
     "iopub.status.idle": "2023-10-26T18:16:33.645114Z",
     "shell.execute_reply": "2023-10-26T18:16:33.643917Z"
    },
    "papermill": {
     "duration": 0.164086,
     "end_time": "2023-10-26T18:16:33.647627",
     "exception": false,
     "start_time": "2023-10-26T18:16:33.483541",
     "status": "completed"
    },
    "tags": []
   },
   "outputs": [
    {
     "data": {
      "text/html": [
       "<div>\n",
       "<style scoped>\n",
       "    .dataframe tbody tr th:only-of-type {\n",
       "        vertical-align: middle;\n",
       "    }\n",
       "\n",
       "    .dataframe tbody tr th {\n",
       "        vertical-align: top;\n",
       "    }\n",
       "\n",
       "    .dataframe thead th {\n",
       "        text-align: right;\n",
       "    }\n",
       "</style>\n",
       "<table border=\"1\" class=\"dataframe\">\n",
       "  <thead>\n",
       "    <tr style=\"text-align: right;\">\n",
       "      <th></th>\n",
       "      <th>VendorID</th>\n",
       "      <th>passenger_count</th>\n",
       "      <th>trip_distance</th>\n",
       "      <th>RatecodeID</th>\n",
       "      <th>PULocationID</th>\n",
       "      <th>DOLocationID</th>\n",
       "      <th>extra</th>\n",
       "      <th>tip_amount</th>\n",
       "      <th>tolls_amount</th>\n",
       "      <th>improvement_surcharge</th>\n",
       "      <th>total_amount</th>\n",
       "      <th>congestion_surcharge</th>\n",
       "      <th>Airport_fee</th>\n",
       "    </tr>\n",
       "  </thead>\n",
       "  <tbody>\n",
       "    <tr>\n",
       "      <th>count</th>\n",
       "      <td>175000.000000</td>\n",
       "      <td>168923.000000</td>\n",
       "      <td>175000.000000</td>\n",
       "      <td>168923.000000</td>\n",
       "      <td>175000.000000</td>\n",
       "      <td>175000.000000</td>\n",
       "      <td>175000.000000</td>\n",
       "      <td>175000.000000</td>\n",
       "      <td>175000.000000</td>\n",
       "      <td>175000.000000</td>\n",
       "      <td>175000.000000</td>\n",
       "      <td>168923.000000</td>\n",
       "      <td>168923.000000</td>\n",
       "    </tr>\n",
       "    <tr>\n",
       "      <th>mean</th>\n",
       "      <td>0.728377</td>\n",
       "      <td>1.357678</td>\n",
       "      <td>5.145930</td>\n",
       "      <td>1.518307</td>\n",
       "      <td>132.710349</td>\n",
       "      <td>132.701429</td>\n",
       "      <td>1.932143</td>\n",
       "      <td>6.127497</td>\n",
       "      <td>0.646816</td>\n",
       "      <td>0.979689</td>\n",
       "      <td>29.633901</td>\n",
       "      <td>2.246971</td>\n",
       "      <td>0.158825</td>\n",
       "    </tr>\n",
       "    <tr>\n",
       "      <th>std</th>\n",
       "      <td>0.445606</td>\n",
       "      <td>0.891283</td>\n",
       "      <td>394.971052</td>\n",
       "      <td>6.514678</td>\n",
       "      <td>76.148799</td>\n",
       "      <td>76.192493</td>\n",
       "      <td>1.948497</td>\n",
       "      <td>4.610834</td>\n",
       "      <td>2.328274</td>\n",
       "      <td>0.198775</td>\n",
       "      <td>25.425206</td>\n",
       "      <td>0.819216</td>\n",
       "      <td>0.511968</td>\n",
       "    </tr>\n",
       "    <tr>\n",
       "      <th>min</th>\n",
       "      <td>0.000000</td>\n",
       "      <td>0.000000</td>\n",
       "      <td>0.000000</td>\n",
       "      <td>1.000000</td>\n",
       "      <td>1.000000</td>\n",
       "      <td>1.000000</td>\n",
       "      <td>-7.500000</td>\n",
       "      <td>0.000079</td>\n",
       "      <td>-29.300000</td>\n",
       "      <td>-1.000000</td>\n",
       "      <td>-576.750000</td>\n",
       "      <td>-2.500000</td>\n",
       "      <td>-1.750000</td>\n",
       "    </tr>\n",
       "    <tr>\n",
       "      <th>25%</th>\n",
       "      <td>0.000000</td>\n",
       "      <td>1.000000</td>\n",
       "      <td>1.080000</td>\n",
       "      <td>1.000000</td>\n",
       "      <td>67.000000</td>\n",
       "      <td>67.000000</td>\n",
       "      <td>0.000000</td>\n",
       "      <td>3.473321</td>\n",
       "      <td>0.000000</td>\n",
       "      <td>1.000000</td>\n",
       "      <td>16.300000</td>\n",
       "      <td>2.500000</td>\n",
       "      <td>0.000000</td>\n",
       "    </tr>\n",
       "    <tr>\n",
       "      <th>50%</th>\n",
       "      <td>1.000000</td>\n",
       "      <td>1.000000</td>\n",
       "      <td>1.840000</td>\n",
       "      <td>1.000000</td>\n",
       "      <td>133.000000</td>\n",
       "      <td>133.000000</td>\n",
       "      <td>1.000000</td>\n",
       "      <td>5.286217</td>\n",
       "      <td>0.000000</td>\n",
       "      <td>1.000000</td>\n",
       "      <td>21.450000</td>\n",
       "      <td>2.500000</td>\n",
       "      <td>0.000000</td>\n",
       "    </tr>\n",
       "    <tr>\n",
       "      <th>75%</th>\n",
       "      <td>1.000000</td>\n",
       "      <td>1.000000</td>\n",
       "      <td>3.610000</td>\n",
       "      <td>1.000000</td>\n",
       "      <td>199.000000</td>\n",
       "      <td>199.000000</td>\n",
       "      <td>2.500000</td>\n",
       "      <td>7.502746</td>\n",
       "      <td>0.000000</td>\n",
       "      <td>1.000000</td>\n",
       "      <td>31.800000</td>\n",
       "      <td>2.500000</td>\n",
       "      <td>0.000000</td>\n",
       "    </tr>\n",
       "    <tr>\n",
       "      <th>max</th>\n",
       "      <td>2.000000</td>\n",
       "      <td>9.000000</td>\n",
       "      <td>135182.060000</td>\n",
       "      <td>99.000000</td>\n",
       "      <td>264.000000</td>\n",
       "      <td>264.000000</td>\n",
       "      <td>11.750000</td>\n",
       "      <td>484.876151</td>\n",
       "      <td>80.000000</td>\n",
       "      <td>1.000000</td>\n",
       "      <td>587.250000</td>\n",
       "      <td>2.500000</td>\n",
       "      <td>1.750000</td>\n",
       "    </tr>\n",
       "  </tbody>\n",
       "</table>\n",
       "</div>"
      ],
      "text/plain": [
       "            VendorID  passenger_count  trip_distance     RatecodeID  \\\n",
       "count  175000.000000    168923.000000  175000.000000  168923.000000   \n",
       "mean        0.728377         1.357678       5.145930       1.518307   \n",
       "std         0.445606         0.891283     394.971052       6.514678   \n",
       "min         0.000000         0.000000       0.000000       1.000000   \n",
       "25%         0.000000         1.000000       1.080000       1.000000   \n",
       "50%         1.000000         1.000000       1.840000       1.000000   \n",
       "75%         1.000000         1.000000       3.610000       1.000000   \n",
       "max         2.000000         9.000000  135182.060000      99.000000   \n",
       "\n",
       "        PULocationID   DOLocationID          extra     tip_amount  \\\n",
       "count  175000.000000  175000.000000  175000.000000  175000.000000   \n",
       "mean      132.710349     132.701429       1.932143       6.127497   \n",
       "std        76.148799      76.192493       1.948497       4.610834   \n",
       "min         1.000000       1.000000      -7.500000       0.000079   \n",
       "25%        67.000000      67.000000       0.000000       3.473321   \n",
       "50%       133.000000     133.000000       1.000000       5.286217   \n",
       "75%       199.000000     199.000000       2.500000       7.502746   \n",
       "max       264.000000     264.000000      11.750000     484.876151   \n",
       "\n",
       "        tolls_amount  improvement_surcharge   total_amount  \\\n",
       "count  175000.000000          175000.000000  175000.000000   \n",
       "mean        0.646816               0.979689      29.633901   \n",
       "std         2.328274               0.198775      25.425206   \n",
       "min       -29.300000              -1.000000    -576.750000   \n",
       "25%         0.000000               1.000000      16.300000   \n",
       "50%         0.000000               1.000000      21.450000   \n",
       "75%         0.000000               1.000000      31.800000   \n",
       "max        80.000000               1.000000     587.250000   \n",
       "\n",
       "       congestion_surcharge    Airport_fee  \n",
       "count         168923.000000  168923.000000  \n",
       "mean               2.246971       0.158825  \n",
       "std                0.819216       0.511968  \n",
       "min               -2.500000      -1.750000  \n",
       "25%                2.500000       0.000000  \n",
       "50%                2.500000       0.000000  \n",
       "75%                2.500000       0.000000  \n",
       "max                2.500000       1.750000  "
      ]
     },
     "execution_count": 4,
     "metadata": {},
     "output_type": "execute_result"
    }
   ],
   "source": [
    "training_data.describe()"
   ]
  },
  {
   "cell_type": "code",
   "execution_count": 5,
   "id": "119e7379",
   "metadata": {
    "execution": {
     "iopub.execute_input": "2023-10-26T18:16:33.670271Z",
     "iopub.status.busy": "2023-10-26T18:16:33.669830Z",
     "iopub.status.idle": "2023-10-26T18:16:33.679364Z",
     "shell.execute_reply": "2023-10-26T18:16:33.678463Z"
    },
    "papermill": {
     "duration": 0.023985,
     "end_time": "2023-10-26T18:16:33.681785",
     "exception": false,
     "start_time": "2023-10-26T18:16:33.657800",
     "status": "completed"
    },
    "tags": []
   },
   "outputs": [
    {
     "data": {
      "text/plain": [
       "VendorID                   int64\n",
       "tpep_pickup_datetime      object\n",
       "tpep_dropoff_datetime     object\n",
       "passenger_count          float64\n",
       "trip_distance            float64\n",
       "RatecodeID               float64\n",
       "store_and_fwd_flag        object\n",
       "PULocationID               int64\n",
       "DOLocationID               int64\n",
       "payment_type              object\n",
       "extra                    float64\n",
       "tip_amount               float64\n",
       "tolls_amount             float64\n",
       "improvement_surcharge    float64\n",
       "total_amount             float64\n",
       "congestion_surcharge     float64\n",
       "Airport_fee              float64\n",
       "dtype: object"
      ]
     },
     "execution_count": 5,
     "metadata": {},
     "output_type": "execute_result"
    }
   ],
   "source": [
    "training_data.dtypes"
   ]
  },
  {
   "cell_type": "code",
   "execution_count": 6,
   "id": "d40aece0",
   "metadata": {
    "execution": {
     "iopub.execute_input": "2023-10-26T18:16:33.702905Z",
     "iopub.status.busy": "2023-10-26T18:16:33.702461Z",
     "iopub.status.idle": "2023-10-26T18:16:33.712308Z",
     "shell.execute_reply": "2023-10-26T18:16:33.711305Z"
    },
    "papermill": {
     "duration": 0.023391,
     "end_time": "2023-10-26T18:16:33.714854",
     "exception": false,
     "start_time": "2023-10-26T18:16:33.691463",
     "status": "completed"
    },
    "tags": []
   },
   "outputs": [],
   "source": [
    "training_subset = training_data.select_dtypes(include = ['float', 'int'])"
   ]
  },
  {
   "cell_type": "code",
   "execution_count": 7,
   "id": "9e605772",
   "metadata": {
    "execution": {
     "iopub.execute_input": "2023-10-26T18:16:33.737203Z",
     "iopub.status.busy": "2023-10-26T18:16:33.736466Z",
     "iopub.status.idle": "2023-10-26T18:16:33.774292Z",
     "shell.execute_reply": "2023-10-26T18:16:33.773194Z"
    },
    "papermill": {
     "duration": 0.05196,
     "end_time": "2023-10-26T18:16:33.777063",
     "exception": false,
     "start_time": "2023-10-26T18:16:33.725103",
     "status": "completed"
    },
    "tags": []
   },
   "outputs": [
    {
     "data": {
      "text/html": [
       "<div>\n",
       "<style scoped>\n",
       "    .dataframe tbody tr th:only-of-type {\n",
       "        vertical-align: middle;\n",
       "    }\n",
       "\n",
       "    .dataframe tbody tr th {\n",
       "        vertical-align: top;\n",
       "    }\n",
       "\n",
       "    .dataframe thead th {\n",
       "        text-align: right;\n",
       "    }\n",
       "</style>\n",
       "<table border=\"1\" class=\"dataframe\">\n",
       "  <thead>\n",
       "    <tr style=\"text-align: right;\">\n",
       "      <th></th>\n",
       "      <th>VendorID</th>\n",
       "      <th>passenger_count</th>\n",
       "      <th>trip_distance</th>\n",
       "      <th>RatecodeID</th>\n",
       "      <th>PULocationID</th>\n",
       "      <th>DOLocationID</th>\n",
       "      <th>extra</th>\n",
       "      <th>tip_amount</th>\n",
       "      <th>tolls_amount</th>\n",
       "      <th>improvement_surcharge</th>\n",
       "      <th>total_amount</th>\n",
       "      <th>congestion_surcharge</th>\n",
       "      <th>Airport_fee</th>\n",
       "    </tr>\n",
       "  </thead>\n",
       "  <tbody>\n",
       "    <tr>\n",
       "      <th>0</th>\n",
       "      <td>1</td>\n",
       "      <td>1.0</td>\n",
       "      <td>2.14</td>\n",
       "      <td>1.0</td>\n",
       "      <td>120</td>\n",
       "      <td>9</td>\n",
       "      <td>2.5</td>\n",
       "      <td>7.165589</td>\n",
       "      <td>0.0</td>\n",
       "      <td>1.0</td>\n",
       "      <td>20.64</td>\n",
       "      <td>2.5</td>\n",
       "      <td>0.00</td>\n",
       "    </tr>\n",
       "    <tr>\n",
       "      <th>1</th>\n",
       "      <td>0</td>\n",
       "      <td>1.0</td>\n",
       "      <td>2.70</td>\n",
       "      <td>1.0</td>\n",
       "      <td>15</td>\n",
       "      <td>215</td>\n",
       "      <td>3.5</td>\n",
       "      <td>6.067401</td>\n",
       "      <td>0.0</td>\n",
       "      <td>1.0</td>\n",
       "      <td>25.55</td>\n",
       "      <td>2.5</td>\n",
       "      <td>0.00</td>\n",
       "    </tr>\n",
       "    <tr>\n",
       "      <th>2</th>\n",
       "      <td>1</td>\n",
       "      <td>1.0</td>\n",
       "      <td>1.15</td>\n",
       "      <td>1.0</td>\n",
       "      <td>167</td>\n",
       "      <td>223</td>\n",
       "      <td>0.0</td>\n",
       "      <td>4.111547</td>\n",
       "      <td>0.0</td>\n",
       "      <td>1.0</td>\n",
       "      <td>17.64</td>\n",
       "      <td>2.5</td>\n",
       "      <td>0.00</td>\n",
       "    </tr>\n",
       "    <tr>\n",
       "      <th>3</th>\n",
       "      <td>0</td>\n",
       "      <td>1.0</td>\n",
       "      <td>0.40</td>\n",
       "      <td>1.0</td>\n",
       "      <td>128</td>\n",
       "      <td>239</td>\n",
       "      <td>2.5</td>\n",
       "      <td>6.411079</td>\n",
       "      <td>0.0</td>\n",
       "      <td>1.0</td>\n",
       "      <td>12.80</td>\n",
       "      <td>2.5</td>\n",
       "      <td>0.00</td>\n",
       "    </tr>\n",
       "    <tr>\n",
       "      <th>4</th>\n",
       "      <td>1</td>\n",
       "      <td>3.0</td>\n",
       "      <td>1.10</td>\n",
       "      <td>1.0</td>\n",
       "      <td>203</td>\n",
       "      <td>52</td>\n",
       "      <td>1.0</td>\n",
       "      <td>4.769377</td>\n",
       "      <td>0.0</td>\n",
       "      <td>1.0</td>\n",
       "      <td>18.00</td>\n",
       "      <td>2.5</td>\n",
       "      <td>0.00</td>\n",
       "    </tr>\n",
       "    <tr>\n",
       "      <th>...</th>\n",
       "      <td>...</td>\n",
       "      <td>...</td>\n",
       "      <td>...</td>\n",
       "      <td>...</td>\n",
       "      <td>...</td>\n",
       "      <td>...</td>\n",
       "      <td>...</td>\n",
       "      <td>...</td>\n",
       "      <td>...</td>\n",
       "      <td>...</td>\n",
       "      <td>...</td>\n",
       "      <td>...</td>\n",
       "      <td>...</td>\n",
       "    </tr>\n",
       "    <tr>\n",
       "      <th>174995</th>\n",
       "      <td>1</td>\n",
       "      <td>3.0</td>\n",
       "      <td>3.45</td>\n",
       "      <td>1.0</td>\n",
       "      <td>147</td>\n",
       "      <td>167</td>\n",
       "      <td>1.0</td>\n",
       "      <td>8.732495</td>\n",
       "      <td>0.0</td>\n",
       "      <td>1.0</td>\n",
       "      <td>28.08</td>\n",
       "      <td>2.5</td>\n",
       "      <td>0.00</td>\n",
       "    </tr>\n",
       "    <tr>\n",
       "      <th>174996</th>\n",
       "      <td>1</td>\n",
       "      <td>1.0</td>\n",
       "      <td>9.44</td>\n",
       "      <td>1.0</td>\n",
       "      <td>154</td>\n",
       "      <td>191</td>\n",
       "      <td>5.0</td>\n",
       "      <td>0.283275</td>\n",
       "      <td>0.0</td>\n",
       "      <td>1.0</td>\n",
       "      <td>59.95</td>\n",
       "      <td>2.5</td>\n",
       "      <td>1.75</td>\n",
       "    </tr>\n",
       "    <tr>\n",
       "      <th>174997</th>\n",
       "      <td>0</td>\n",
       "      <td>1.0</td>\n",
       "      <td>2.40</td>\n",
       "      <td>1.0</td>\n",
       "      <td>168</td>\n",
       "      <td>106</td>\n",
       "      <td>2.5</td>\n",
       "      <td>4.245354</td>\n",
       "      <td>0.0</td>\n",
       "      <td>1.0</td>\n",
       "      <td>33.50</td>\n",
       "      <td>2.5</td>\n",
       "      <td>0.00</td>\n",
       "    </tr>\n",
       "    <tr>\n",
       "      <th>174998</th>\n",
       "      <td>1</td>\n",
       "      <td>1.0</td>\n",
       "      <td>4.71</td>\n",
       "      <td>1.0</td>\n",
       "      <td>240</td>\n",
       "      <td>100</td>\n",
       "      <td>2.5</td>\n",
       "      <td>10.479776</td>\n",
       "      <td>0.0</td>\n",
       "      <td>1.0</td>\n",
       "      <td>40.80</td>\n",
       "      <td>2.5</td>\n",
       "      <td>0.00</td>\n",
       "    </tr>\n",
       "    <tr>\n",
       "      <th>174999</th>\n",
       "      <td>1</td>\n",
       "      <td>1.0</td>\n",
       "      <td>1.01</td>\n",
       "      <td>1.0</td>\n",
       "      <td>153</td>\n",
       "      <td>72</td>\n",
       "      <td>1.0</td>\n",
       "      <td>6.541699</td>\n",
       "      <td>0.0</td>\n",
       "      <td>1.0</td>\n",
       "      <td>16.32</td>\n",
       "      <td>2.5</td>\n",
       "      <td>0.00</td>\n",
       "    </tr>\n",
       "  </tbody>\n",
       "</table>\n",
       "<p>175000 rows × 13 columns</p>\n",
       "</div>"
      ],
      "text/plain": [
       "        VendorID  passenger_count  trip_distance  RatecodeID  PULocationID  \\\n",
       "0              1              1.0           2.14         1.0           120   \n",
       "1              0              1.0           2.70         1.0            15   \n",
       "2              1              1.0           1.15         1.0           167   \n",
       "3              0              1.0           0.40         1.0           128   \n",
       "4              1              3.0           1.10         1.0           203   \n",
       "...          ...              ...            ...         ...           ...   \n",
       "174995         1              3.0           3.45         1.0           147   \n",
       "174996         1              1.0           9.44         1.0           154   \n",
       "174997         0              1.0           2.40         1.0           168   \n",
       "174998         1              1.0           4.71         1.0           240   \n",
       "174999         1              1.0           1.01         1.0           153   \n",
       "\n",
       "        DOLocationID  extra  tip_amount  tolls_amount  improvement_surcharge  \\\n",
       "0                  9    2.5    7.165589           0.0                    1.0   \n",
       "1                215    3.5    6.067401           0.0                    1.0   \n",
       "2                223    0.0    4.111547           0.0                    1.0   \n",
       "3                239    2.5    6.411079           0.0                    1.0   \n",
       "4                 52    1.0    4.769377           0.0                    1.0   \n",
       "...              ...    ...         ...           ...                    ...   \n",
       "174995           167    1.0    8.732495           0.0                    1.0   \n",
       "174996           191    5.0    0.283275           0.0                    1.0   \n",
       "174997           106    2.5    4.245354           0.0                    1.0   \n",
       "174998           100    2.5   10.479776           0.0                    1.0   \n",
       "174999            72    1.0    6.541699           0.0                    1.0   \n",
       "\n",
       "        total_amount  congestion_surcharge  Airport_fee  \n",
       "0              20.64                   2.5         0.00  \n",
       "1              25.55                   2.5         0.00  \n",
       "2              17.64                   2.5         0.00  \n",
       "3              12.80                   2.5         0.00  \n",
       "4              18.00                   2.5         0.00  \n",
       "...              ...                   ...          ...  \n",
       "174995         28.08                   2.5         0.00  \n",
       "174996         59.95                   2.5         1.75  \n",
       "174997         33.50                   2.5         0.00  \n",
       "174998         40.80                   2.5         0.00  \n",
       "174999         16.32                   2.5         0.00  \n",
       "\n",
       "[175000 rows x 13 columns]"
      ]
     },
     "execution_count": 7,
     "metadata": {},
     "output_type": "execute_result"
    }
   ],
   "source": [
    "training_subset"
   ]
  },
  {
   "cell_type": "code",
   "execution_count": 8,
   "id": "711040aa",
   "metadata": {
    "execution": {
     "iopub.execute_input": "2023-10-26T18:16:33.800067Z",
     "iopub.status.busy": "2023-10-26T18:16:33.799139Z",
     "iopub.status.idle": "2023-10-26T18:16:33.811057Z",
     "shell.execute_reply": "2023-10-26T18:16:33.810188Z"
    },
    "papermill": {
     "duration": 0.025789,
     "end_time": "2023-10-26T18:16:33.813440",
     "exception": false,
     "start_time": "2023-10-26T18:16:33.787651",
     "status": "completed"
    },
    "tags": []
   },
   "outputs": [
    {
     "data": {
      "text/plain": [
       "VendorID                    0\n",
       "passenger_count          6077\n",
       "trip_distance               0\n",
       "RatecodeID               6077\n",
       "PULocationID                0\n",
       "DOLocationID                0\n",
       "extra                       0\n",
       "tip_amount                  0\n",
       "tolls_amount                0\n",
       "improvement_surcharge       0\n",
       "total_amount                0\n",
       "congestion_surcharge     6077\n",
       "Airport_fee              6077\n",
       "dtype: int64"
      ]
     },
     "execution_count": 8,
     "metadata": {},
     "output_type": "execute_result"
    }
   ],
   "source": [
    "training_subset.isnull().sum()"
   ]
  },
  {
   "cell_type": "code",
   "execution_count": 9,
   "id": "d3469c10",
   "metadata": {
    "execution": {
     "iopub.execute_input": "2023-10-26T18:16:33.836641Z",
     "iopub.status.busy": "2023-10-26T18:16:33.836191Z",
     "iopub.status.idle": "2023-10-26T18:16:33.849663Z",
     "shell.execute_reply": "2023-10-26T18:16:33.848260Z"
    },
    "papermill": {
     "duration": 0.028203,
     "end_time": "2023-10-26T18:16:33.852414",
     "exception": false,
     "start_time": "2023-10-26T18:16:33.824211",
     "status": "completed"
    },
    "tags": []
   },
   "outputs": [],
   "source": [
    "y = training_subset['total_amount']\n",
    "X = training_subset.drop(columns = [\"total_amount\"])"
   ]
  },
  {
   "cell_type": "code",
   "execution_count": 10,
   "id": "87d19668",
   "metadata": {
    "execution": {
     "iopub.execute_input": "2023-10-26T18:16:33.876553Z",
     "iopub.status.busy": "2023-10-26T18:16:33.875565Z",
     "iopub.status.idle": "2023-10-26T18:16:35.459251Z",
     "shell.execute_reply": "2023-10-26T18:16:35.457976Z"
    },
    "papermill": {
     "duration": 1.59945,
     "end_time": "2023-10-26T18:16:35.462193",
     "exception": false,
     "start_time": "2023-10-26T18:16:33.862743",
     "status": "completed"
    },
    "tags": []
   },
   "outputs": [],
   "source": [
    "from sklearn.model_selection import train_test_split\n",
    "X_train, X_val, y_train, y_val = train_test_split(X,y, test_size = 0.2, random_state = 42)"
   ]
  },
  {
   "cell_type": "code",
   "execution_count": 11,
   "id": "c3a5be8c",
   "metadata": {
    "execution": {
     "iopub.execute_input": "2023-10-26T18:16:35.485556Z",
     "iopub.status.busy": "2023-10-26T18:16:35.484378Z",
     "iopub.status.idle": "2023-10-26T18:16:35.936566Z",
     "shell.execute_reply": "2023-10-26T18:16:35.935205Z"
    },
    "papermill": {
     "duration": 0.467073,
     "end_time": "2023-10-26T18:16:35.939661",
     "exception": false,
     "start_time": "2023-10-26T18:16:35.472588",
     "status": "completed"
    },
    "tags": []
   },
   "outputs": [],
   "source": [
    "from sklearn.impute import SimpleImputer\n",
    "imp_mean = SimpleImputer(missing_values=np.NaN,strategy='mean')\n",
    "X_train = imp_mean.fit_transform(X_train)\n",
    "X_val = imp_mean.fit_transform(X_val)"
   ]
  },
  {
   "cell_type": "code",
   "execution_count": 12,
   "id": "f34250ba",
   "metadata": {
    "execution": {
     "iopub.execute_input": "2023-10-26T18:16:35.962899Z",
     "iopub.status.busy": "2023-10-26T18:16:35.962482Z",
     "iopub.status.idle": "2023-10-26T18:16:36.370134Z",
     "shell.execute_reply": "2023-10-26T18:16:36.368810Z"
    },
    "papermill": {
     "duration": 0.422198,
     "end_time": "2023-10-26T18:16:36.372802",
     "exception": false,
     "start_time": "2023-10-26T18:16:35.950604",
     "status": "completed"
    },
    "tags": []
   },
   "outputs": [
    {
     "data": {
      "text/html": [
       "<style>#sk-container-id-1 {color: black;background-color: white;}#sk-container-id-1 pre{padding: 0;}#sk-container-id-1 div.sk-toggleable {background-color: white;}#sk-container-id-1 label.sk-toggleable__label {cursor: pointer;display: block;width: 100%;margin-bottom: 0;padding: 0.3em;box-sizing: border-box;text-align: center;}#sk-container-id-1 label.sk-toggleable__label-arrow:before {content: \"▸\";float: left;margin-right: 0.25em;color: #696969;}#sk-container-id-1 label.sk-toggleable__label-arrow:hover:before {color: black;}#sk-container-id-1 div.sk-estimator:hover label.sk-toggleable__label-arrow:before {color: black;}#sk-container-id-1 div.sk-toggleable__content {max-height: 0;max-width: 0;overflow: hidden;text-align: left;background-color: #f0f8ff;}#sk-container-id-1 div.sk-toggleable__content pre {margin: 0.2em;color: black;border-radius: 0.25em;background-color: #f0f8ff;}#sk-container-id-1 input.sk-toggleable__control:checked~div.sk-toggleable__content {max-height: 200px;max-width: 100%;overflow: auto;}#sk-container-id-1 input.sk-toggleable__control:checked~label.sk-toggleable__label-arrow:before {content: \"▾\";}#sk-container-id-1 div.sk-estimator input.sk-toggleable__control:checked~label.sk-toggleable__label {background-color: #d4ebff;}#sk-container-id-1 div.sk-label input.sk-toggleable__control:checked~label.sk-toggleable__label {background-color: #d4ebff;}#sk-container-id-1 input.sk-hidden--visually {border: 0;clip: rect(1px 1px 1px 1px);clip: rect(1px, 1px, 1px, 1px);height: 1px;margin: -1px;overflow: hidden;padding: 0;position: absolute;width: 1px;}#sk-container-id-1 div.sk-estimator {font-family: monospace;background-color: #f0f8ff;border: 1px dotted black;border-radius: 0.25em;box-sizing: border-box;margin-bottom: 0.5em;}#sk-container-id-1 div.sk-estimator:hover {background-color: #d4ebff;}#sk-container-id-1 div.sk-parallel-item::after {content: \"\";width: 100%;border-bottom: 1px solid gray;flex-grow: 1;}#sk-container-id-1 div.sk-label:hover label.sk-toggleable__label {background-color: #d4ebff;}#sk-container-id-1 div.sk-serial::before {content: \"\";position: absolute;border-left: 1px solid gray;box-sizing: border-box;top: 0;bottom: 0;left: 50%;z-index: 0;}#sk-container-id-1 div.sk-serial {display: flex;flex-direction: column;align-items: center;background-color: white;padding-right: 0.2em;padding-left: 0.2em;position: relative;}#sk-container-id-1 div.sk-item {position: relative;z-index: 1;}#sk-container-id-1 div.sk-parallel {display: flex;align-items: stretch;justify-content: center;background-color: white;position: relative;}#sk-container-id-1 div.sk-item::before, #sk-container-id-1 div.sk-parallel-item::before {content: \"\";position: absolute;border-left: 1px solid gray;box-sizing: border-box;top: 0;bottom: 0;left: 50%;z-index: -1;}#sk-container-id-1 div.sk-parallel-item {display: flex;flex-direction: column;z-index: 1;position: relative;background-color: white;}#sk-container-id-1 div.sk-parallel-item:first-child::after {align-self: flex-end;width: 50%;}#sk-container-id-1 div.sk-parallel-item:last-child::after {align-self: flex-start;width: 50%;}#sk-container-id-1 div.sk-parallel-item:only-child::after {width: 0;}#sk-container-id-1 div.sk-dashed-wrapped {border: 1px dashed gray;margin: 0 0.4em 0.5em 0.4em;box-sizing: border-box;padding-bottom: 0.4em;background-color: white;}#sk-container-id-1 div.sk-label label {font-family: monospace;font-weight: bold;display: inline-block;line-height: 1.2em;}#sk-container-id-1 div.sk-label-container {text-align: center;}#sk-container-id-1 div.sk-container {/* jupyter's `normalize.less` sets `[hidden] { display: none; }` but bootstrap.min.css set `[hidden] { display: none !important; }` so we also need the `!important` here to be able to override the default hidden behavior on the sphinx rendered scikit-learn.org. See: https://github.com/scikit-learn/scikit-learn/issues/21755 */display: inline-block !important;position: relative;}#sk-container-id-1 div.sk-text-repr-fallback {display: none;}</style><div id=\"sk-container-id-1\" class=\"sk-top-container\"><div class=\"sk-text-repr-fallback\"><pre>KNeighborsRegressor(n_neighbors=13)</pre><b>In a Jupyter environment, please rerun this cell to show the HTML representation or trust the notebook. <br />On GitHub, the HTML representation is unable to render, please try loading this page with nbviewer.org.</b></div><div class=\"sk-container\" hidden><div class=\"sk-item\"><div class=\"sk-estimator sk-toggleable\"><input class=\"sk-toggleable__control sk-hidden--visually\" id=\"sk-estimator-id-1\" type=\"checkbox\" checked><label for=\"sk-estimator-id-1\" class=\"sk-toggleable__label sk-toggleable__label-arrow\">KNeighborsRegressor</label><div class=\"sk-toggleable__content\"><pre>KNeighborsRegressor(n_neighbors=13)</pre></div></div></div></div></div>"
      ],
      "text/plain": [
       "KNeighborsRegressor(n_neighbors=13)"
      ]
     },
     "execution_count": 12,
     "metadata": {},
     "output_type": "execute_result"
    }
   ],
   "source": [
    "from sklearn.neighbors import KNeighborsRegressor\n",
    "KNN = KNeighborsRegressor(n_neighbors=13)\n",
    "KNN.fit(X_train, y_train)"
   ]
  },
  {
   "cell_type": "code",
   "execution_count": 13,
   "id": "f7321d6d",
   "metadata": {
    "execution": {
     "iopub.execute_input": "2023-10-26T18:16:36.395850Z",
     "iopub.status.busy": "2023-10-26T18:16:36.395409Z",
     "iopub.status.idle": "2023-10-26T18:16:36.401101Z",
     "shell.execute_reply": "2023-10-26T18:16:36.399810Z"
    },
    "papermill": {
     "duration": 0.02022,
     "end_time": "2023-10-26T18:16:36.403809",
     "exception": false,
     "start_time": "2023-10-26T18:16:36.383589",
     "status": "completed"
    },
    "tags": []
   },
   "outputs": [],
   "source": [
    "y_train = np.asarray(y_train)"
   ]
  },
  {
   "cell_type": "code",
   "execution_count": 14,
   "id": "31ba05e5",
   "metadata": {
    "execution": {
     "iopub.execute_input": "2023-10-26T18:16:36.427261Z",
     "iopub.status.busy": "2023-10-26T18:16:36.426616Z",
     "iopub.status.idle": "2023-10-26T18:16:36.433523Z",
     "shell.execute_reply": "2023-10-26T18:16:36.432418Z"
    },
    "papermill": {
     "duration": 0.021521,
     "end_time": "2023-10-26T18:16:36.435882",
     "exception": false,
     "start_time": "2023-10-26T18:16:36.414361",
     "status": "completed"
    },
    "tags": []
   },
   "outputs": [
    {
     "data": {
      "text/plain": [
       "array([24.8 , 31.55, 24.84, ..., 24.  , 15.96, 17.1 ])"
      ]
     },
     "execution_count": 14,
     "metadata": {},
     "output_type": "execute_result"
    }
   ],
   "source": [
    "y_val = np.asarray(y_val)\n",
    "y_val"
   ]
  },
  {
   "cell_type": "code",
   "execution_count": 15,
   "id": "69ecd3bf",
   "metadata": {
    "execution": {
     "iopub.execute_input": "2023-10-26T18:16:36.459653Z",
     "iopub.status.busy": "2023-10-26T18:16:36.459206Z",
     "iopub.status.idle": "2023-10-26T18:16:41.767980Z",
     "shell.execute_reply": "2023-10-26T18:16:41.766698Z"
    },
    "papermill": {
     "duration": 5.32355,
     "end_time": "2023-10-26T18:16:41.770529",
     "exception": false,
     "start_time": "2023-10-26T18:16:36.446979",
     "status": "completed"
    },
    "tags": []
   },
   "outputs": [
    {
     "data": {
      "text/plain": [
       "0.7883423226406199"
      ]
     },
     "execution_count": 15,
     "metadata": {},
     "output_type": "execute_result"
    }
   ],
   "source": [
    "from sklearn.metrics import r2_score\n",
    "predictions = KNN.predict(X_val)\n",
    "r2_score(y_val, predictions)"
   ]
  },
  {
   "cell_type": "code",
   "execution_count": 16,
   "id": "701e3e6d",
   "metadata": {
    "execution": {
     "iopub.execute_input": "2023-10-26T18:16:41.794925Z",
     "iopub.status.busy": "2023-10-26T18:16:41.794536Z",
     "iopub.status.idle": "2023-10-26T18:16:42.062851Z",
     "shell.execute_reply": "2023-10-26T18:16:42.061587Z"
    },
    "papermill": {
     "duration": 0.283981,
     "end_time": "2023-10-26T18:16:42.065474",
     "exception": false,
     "start_time": "2023-10-26T18:16:41.781493",
     "status": "completed"
    },
    "tags": []
   },
   "outputs": [
    {
     "data": {
      "text/html": [
       "<div>\n",
       "<style scoped>\n",
       "    .dataframe tbody tr th:only-of-type {\n",
       "        vertical-align: middle;\n",
       "    }\n",
       "\n",
       "    .dataframe tbody tr th {\n",
       "        vertical-align: top;\n",
       "    }\n",
       "\n",
       "    .dataframe thead th {\n",
       "        text-align: right;\n",
       "    }\n",
       "</style>\n",
       "<table border=\"1\" class=\"dataframe\">\n",
       "  <thead>\n",
       "    <tr style=\"text-align: right;\">\n",
       "      <th></th>\n",
       "      <th>VendorID</th>\n",
       "      <th>tpep_pickup_datetime</th>\n",
       "      <th>tpep_dropoff_datetime</th>\n",
       "      <th>passenger_count</th>\n",
       "      <th>trip_distance</th>\n",
       "      <th>RatecodeID</th>\n",
       "      <th>store_and_fwd_flag</th>\n",
       "      <th>PULocationID</th>\n",
       "      <th>DOLocationID</th>\n",
       "      <th>payment_type</th>\n",
       "      <th>extra</th>\n",
       "      <th>tip_amount</th>\n",
       "      <th>tolls_amount</th>\n",
       "      <th>improvement_surcharge</th>\n",
       "      <th>congestion_surcharge</th>\n",
       "      <th>Airport_fee</th>\n",
       "    </tr>\n",
       "  </thead>\n",
       "  <tbody>\n",
       "    <tr>\n",
       "      <th>0</th>\n",
       "      <td>1</td>\n",
       "      <td>2023-06-29 00:21:20</td>\n",
       "      <td>2023-06-29 00:25:20</td>\n",
       "      <td>1.0</td>\n",
       "      <td>4.95</td>\n",
       "      <td>1.0</td>\n",
       "      <td>N</td>\n",
       "      <td>20</td>\n",
       "      <td>3</td>\n",
       "      <td>Credit Card</td>\n",
       "      <td>1.0</td>\n",
       "      <td>6.067612</td>\n",
       "      <td>0.0</td>\n",
       "      <td>1.0</td>\n",
       "      <td>2.5</td>\n",
       "      <td>0.0</td>\n",
       "    </tr>\n",
       "    <tr>\n",
       "      <th>1</th>\n",
       "      <td>1</td>\n",
       "      <td>2023-06-30 17:44:43</td>\n",
       "      <td>2023-06-30 17:53:13</td>\n",
       "      <td>1.0</td>\n",
       "      <td>2.10</td>\n",
       "      <td>1.0</td>\n",
       "      <td>N</td>\n",
       "      <td>9</td>\n",
       "      <td>81</td>\n",
       "      <td>Credit Card</td>\n",
       "      <td>2.5</td>\n",
       "      <td>6.191269</td>\n",
       "      <td>0.0</td>\n",
       "      <td>1.0</td>\n",
       "      <td>2.5</td>\n",
       "      <td>0.0</td>\n",
       "    </tr>\n",
       "    <tr>\n",
       "      <th>2</th>\n",
       "      <td>1</td>\n",
       "      <td>2023-06-29 18:17:04</td>\n",
       "      <td>2023-06-29 19:23:48</td>\n",
       "      <td>1.0</td>\n",
       "      <td>0.95</td>\n",
       "      <td>1.0</td>\n",
       "      <td>N</td>\n",
       "      <td>92</td>\n",
       "      <td>90</td>\n",
       "      <td>Cash</td>\n",
       "      <td>2.5</td>\n",
       "      <td>3.983872</td>\n",
       "      <td>0.0</td>\n",
       "      <td>1.0</td>\n",
       "      <td>2.5</td>\n",
       "      <td>0.0</td>\n",
       "    </tr>\n",
       "    <tr>\n",
       "      <th>3</th>\n",
       "      <td>0</td>\n",
       "      <td>2023-06-30 21:33:53</td>\n",
       "      <td>2023-06-30 21:46:20</td>\n",
       "      <td>1.0</td>\n",
       "      <td>0.80</td>\n",
       "      <td>1.0</td>\n",
       "      <td>N</td>\n",
       "      <td>19</td>\n",
       "      <td>102</td>\n",
       "      <td>Credit Card</td>\n",
       "      <td>3.5</td>\n",
       "      <td>6.839341</td>\n",
       "      <td>0.0</td>\n",
       "      <td>1.0</td>\n",
       "      <td>2.5</td>\n",
       "      <td>0.0</td>\n",
       "    </tr>\n",
       "    <tr>\n",
       "      <th>4</th>\n",
       "      <td>1</td>\n",
       "      <td>2023-06-29 14:53:54</td>\n",
       "      <td>2023-06-29 15:22:17</td>\n",
       "      <td>1.0</td>\n",
       "      <td>4.01</td>\n",
       "      <td>1.0</td>\n",
       "      <td>N</td>\n",
       "      <td>131</td>\n",
       "      <td>229</td>\n",
       "      <td>Cash</td>\n",
       "      <td>0.0</td>\n",
       "      <td>1.468943</td>\n",
       "      <td>0.0</td>\n",
       "      <td>1.0</td>\n",
       "      <td>0.0</td>\n",
       "      <td>0.0</td>\n",
       "    </tr>\n",
       "  </tbody>\n",
       "</table>\n",
       "</div>"
      ],
      "text/plain": [
       "   VendorID tpep_pickup_datetime tpep_dropoff_datetime  passenger_count  \\\n",
       "0         1  2023-06-29 00:21:20   2023-06-29 00:25:20              1.0   \n",
       "1         1  2023-06-30 17:44:43   2023-06-30 17:53:13              1.0   \n",
       "2         1  2023-06-29 18:17:04   2023-06-29 19:23:48              1.0   \n",
       "3         0  2023-06-30 21:33:53   2023-06-30 21:46:20              1.0   \n",
       "4         1  2023-06-29 14:53:54   2023-06-29 15:22:17              1.0   \n",
       "\n",
       "   trip_distance  RatecodeID store_and_fwd_flag  PULocationID  DOLocationID  \\\n",
       "0           4.95         1.0                  N            20             3   \n",
       "1           2.10         1.0                  N             9            81   \n",
       "2           0.95         1.0                  N            92            90   \n",
       "3           0.80         1.0                  N            19           102   \n",
       "4           4.01         1.0                  N           131           229   \n",
       "\n",
       "  payment_type  extra  tip_amount  tolls_amount  improvement_surcharge  \\\n",
       "0  Credit Card    1.0    6.067612           0.0                    1.0   \n",
       "1  Credit Card    2.5    6.191269           0.0                    1.0   \n",
       "2         Cash    2.5    3.983872           0.0                    1.0   \n",
       "3  Credit Card    3.5    6.839341           0.0                    1.0   \n",
       "4         Cash    0.0    1.468943           0.0                    1.0   \n",
       "\n",
       "   congestion_surcharge  Airport_fee  \n",
       "0                   2.5          0.0  \n",
       "1                   2.5          0.0  \n",
       "2                   2.5          0.0  \n",
       "3                   2.5          0.0  \n",
       "4                   0.0          0.0  "
      ]
     },
     "execution_count": 16,
     "metadata": {},
     "output_type": "execute_result"
    }
   ],
   "source": [
    "test_data = pd.read_csv(\"/kaggle/input/taxi-fare-guru-total-amount-prediction-challenge/test.csv\")\n",
    "test_data.head()"
   ]
  },
  {
   "cell_type": "code",
   "execution_count": 17,
   "id": "cdfcafba",
   "metadata": {
    "execution": {
     "iopub.execute_input": "2023-10-26T18:16:42.089651Z",
     "iopub.status.busy": "2023-10-26T18:16:42.089206Z",
     "iopub.status.idle": "2023-10-26T18:16:42.095823Z",
     "shell.execute_reply": "2023-10-26T18:16:42.094516Z"
    },
    "papermill": {
     "duration": 0.021539,
     "end_time": "2023-10-26T18:16:42.098148",
     "exception": false,
     "start_time": "2023-10-26T18:16:42.076609",
     "status": "completed"
    },
    "tags": []
   },
   "outputs": [],
   "source": [
    "test_subset = test_data.select_dtypes(include = ['float', 'int'])"
   ]
  },
  {
   "cell_type": "code",
   "execution_count": 18,
   "id": "b153df03",
   "metadata": {
    "execution": {
     "iopub.execute_input": "2023-10-26T18:16:42.123637Z",
     "iopub.status.busy": "2023-10-26T18:16:42.123205Z",
     "iopub.status.idle": "2023-10-26T18:16:42.148141Z",
     "shell.execute_reply": "2023-10-26T18:16:42.146823Z"
    },
    "papermill": {
     "duration": 0.041227,
     "end_time": "2023-10-26T18:16:42.151220",
     "exception": false,
     "start_time": "2023-10-26T18:16:42.109993",
     "status": "completed"
    },
    "tags": []
   },
   "outputs": [
    {
     "data": {
      "text/plain": [
       "array([[1.  , 1.  , 4.95, ..., 1.  , 2.5 , 0.  ],\n",
       "       [1.  , 1.  , 2.1 , ..., 1.  , 2.5 , 0.  ],\n",
       "       [1.  , 1.  , 0.95, ..., 1.  , 2.5 , 0.  ],\n",
       "       ...,\n",
       "       [1.  , 1.  , 1.92, ..., 1.  , 2.5 , 0.  ],\n",
       "       [0.  , 1.  , 5.4 , ..., 1.  , 2.5 , 0.  ],\n",
       "       [1.  , 1.  , 1.31, ..., 1.  , 2.5 , 0.  ]])"
      ]
     },
     "execution_count": 18,
     "metadata": {},
     "output_type": "execute_result"
    }
   ],
   "source": [
    "X_test = imp_mean.fit_transform(test_subset)\n",
    "X_test"
   ]
  },
  {
   "cell_type": "code",
   "execution_count": 19,
   "id": "ac05aa47",
   "metadata": {
    "execution": {
     "iopub.execute_input": "2023-10-26T18:16:42.176468Z",
     "iopub.status.busy": "2023-10-26T18:16:42.175996Z",
     "iopub.status.idle": "2023-10-26T18:16:49.656831Z",
     "shell.execute_reply": "2023-10-26T18:16:49.655500Z"
    },
    "papermill": {
     "duration": 7.496323,
     "end_time": "2023-10-26T18:16:49.659576",
     "exception": false,
     "start_time": "2023-10-26T18:16:42.163253",
     "status": "completed"
    },
    "tags": []
   },
   "outputs": [
    {
     "data": {
      "text/plain": [
       "array([25.32      , 22.3       , 18.42692308, ..., 19.53307692,\n",
       "       27.31923077, 15.89846154])"
      ]
     },
     "execution_count": 19,
     "metadata": {},
     "output_type": "execute_result"
    }
   ],
   "source": [
    "predictions = KNN.predict(X_test)\n",
    "predictions"
   ]
  },
  {
   "cell_type": "code",
   "execution_count": 20,
   "id": "db5d2f83",
   "metadata": {
    "execution": {
     "iopub.execute_input": "2023-10-26T18:16:49.684543Z",
     "iopub.status.busy": "2023-10-26T18:16:49.684106Z",
     "iopub.status.idle": "2023-10-26T18:16:49.704369Z",
     "shell.execute_reply": "2023-10-26T18:16:49.703048Z"
    },
    "papermill": {
     "duration": 0.036087,
     "end_time": "2023-10-26T18:16:49.707365",
     "exception": false,
     "start_time": "2023-10-26T18:16:49.671278",
     "status": "completed"
    },
    "tags": []
   },
   "outputs": [
    {
     "data": {
      "text/html": [
       "<div>\n",
       "<style scoped>\n",
       "    .dataframe tbody tr th:only-of-type {\n",
       "        vertical-align: middle;\n",
       "    }\n",
       "\n",
       "    .dataframe tbody tr th {\n",
       "        vertical-align: top;\n",
       "    }\n",
       "\n",
       "    .dataframe thead th {\n",
       "        text-align: right;\n",
       "    }\n",
       "</style>\n",
       "<table border=\"1\" class=\"dataframe\">\n",
       "  <thead>\n",
       "    <tr style=\"text-align: right;\">\n",
       "      <th></th>\n",
       "      <th>ID</th>\n",
       "      <th>total_amount</th>\n",
       "    </tr>\n",
       "  </thead>\n",
       "  <tbody>\n",
       "    <tr>\n",
       "      <th>0</th>\n",
       "      <td>1</td>\n",
       "      <td>24.456348</td>\n",
       "    </tr>\n",
       "    <tr>\n",
       "      <th>1</th>\n",
       "      <td>2</td>\n",
       "      <td>24.374058</td>\n",
       "    </tr>\n",
       "    <tr>\n",
       "      <th>2</th>\n",
       "      <td>3</td>\n",
       "      <td>19.878154</td>\n",
       "    </tr>\n",
       "    <tr>\n",
       "      <th>3</th>\n",
       "      <td>4</td>\n",
       "      <td>25.015569</td>\n",
       "    </tr>\n",
       "    <tr>\n",
       "      <th>4</th>\n",
       "      <td>5</td>\n",
       "      <td>22.252489</td>\n",
       "    </tr>\n",
       "  </tbody>\n",
       "</table>\n",
       "</div>"
      ],
      "text/plain": [
       "   ID  total_amount\n",
       "0   1     24.456348\n",
       "1   2     24.374058\n",
       "2   3     19.878154\n",
       "3   4     25.015569\n",
       "4   5     22.252489"
      ]
     },
     "execution_count": 20,
     "metadata": {},
     "output_type": "execute_result"
    }
   ],
   "source": [
    "sample = pd.read_csv(\"/kaggle/input/taxi-fare-guru-total-amount-prediction-challenge/sample.csv.csv\")\n",
    "sample.head()"
   ]
  },
  {
   "cell_type": "code",
   "execution_count": 21,
   "id": "b11b7ccc",
   "metadata": {
    "execution": {
     "iopub.execute_input": "2023-10-26T18:16:49.732751Z",
     "iopub.status.busy": "2023-10-26T18:16:49.732346Z",
     "iopub.status.idle": "2023-10-26T18:16:49.823334Z",
     "shell.execute_reply": "2023-10-26T18:16:49.822024Z"
    },
    "papermill": {
     "duration": 0.10689,
     "end_time": "2023-10-26T18:16:49.826162",
     "exception": false,
     "start_time": "2023-10-26T18:16:49.719272",
     "status": "completed"
    },
    "tags": []
   },
   "outputs": [],
   "source": [
    "submission = pd.DataFrame(columns = [\"ID\", \"total_amount\"])\n",
    "submission[\"ID\"] = [i+1 for i in range(len(predictions))]\n",
    "submission[\"total_amount\"] = [x for x in predictions]"
   ]
  },
  {
   "cell_type": "code",
   "execution_count": 22,
   "id": "9044a243",
   "metadata": {
    "execution": {
     "iopub.execute_input": "2023-10-26T18:16:49.852281Z",
     "iopub.status.busy": "2023-10-26T18:16:49.851827Z",
     "iopub.status.idle": "2023-10-26T18:16:49.862192Z",
     "shell.execute_reply": "2023-10-26T18:16:49.860992Z"
    },
    "papermill": {
     "duration": 0.026495,
     "end_time": "2023-10-26T18:16:49.864622",
     "exception": false,
     "start_time": "2023-10-26T18:16:49.838127",
     "status": "completed"
    },
    "tags": []
   },
   "outputs": [
    {
     "data": {
      "text/html": [
       "<div>\n",
       "<style scoped>\n",
       "    .dataframe tbody tr th:only-of-type {\n",
       "        vertical-align: middle;\n",
       "    }\n",
       "\n",
       "    .dataframe tbody tr th {\n",
       "        vertical-align: top;\n",
       "    }\n",
       "\n",
       "    .dataframe thead th {\n",
       "        text-align: right;\n",
       "    }\n",
       "</style>\n",
       "<table border=\"1\" class=\"dataframe\">\n",
       "  <thead>\n",
       "    <tr style=\"text-align: right;\">\n",
       "      <th></th>\n",
       "      <th>ID</th>\n",
       "      <th>total_amount</th>\n",
       "    </tr>\n",
       "  </thead>\n",
       "  <tbody>\n",
       "    <tr>\n",
       "      <th>0</th>\n",
       "      <td>1</td>\n",
       "      <td>25.320000</td>\n",
       "    </tr>\n",
       "    <tr>\n",
       "      <th>1</th>\n",
       "      <td>2</td>\n",
       "      <td>22.300000</td>\n",
       "    </tr>\n",
       "    <tr>\n",
       "      <th>2</th>\n",
       "      <td>3</td>\n",
       "      <td>18.426923</td>\n",
       "    </tr>\n",
       "    <tr>\n",
       "      <th>3</th>\n",
       "      <td>4</td>\n",
       "      <td>19.198462</td>\n",
       "    </tr>\n",
       "    <tr>\n",
       "      <th>4</th>\n",
       "      <td>5</td>\n",
       "      <td>21.673077</td>\n",
       "    </tr>\n",
       "  </tbody>\n",
       "</table>\n",
       "</div>"
      ],
      "text/plain": [
       "   ID  total_amount\n",
       "0   1     25.320000\n",
       "1   2     22.300000\n",
       "2   3     18.426923\n",
       "3   4     19.198462\n",
       "4   5     21.673077"
      ]
     },
     "execution_count": 22,
     "metadata": {},
     "output_type": "execute_result"
    }
   ],
   "source": [
    "submission.head()"
   ]
  },
  {
   "cell_type": "code",
   "execution_count": 23,
   "id": "8d5de132",
   "metadata": {
    "execution": {
     "iopub.execute_input": "2023-10-26T18:16:49.890489Z",
     "iopub.status.busy": "2023-10-26T18:16:49.890035Z",
     "iopub.status.idle": "2023-10-26T18:16:50.101654Z",
     "shell.execute_reply": "2023-10-26T18:16:50.100372Z"
    },
    "papermill": {
     "duration": 0.227696,
     "end_time": "2023-10-26T18:16:50.104334",
     "exception": false,
     "start_time": "2023-10-26T18:16:49.876638",
     "status": "completed"
    },
    "tags": []
   },
   "outputs": [],
   "source": [
    "submission.to_csv('submission.csv', index = False)"
   ]
  },
  {
   "cell_type": "code",
   "execution_count": null,
   "id": "081be8d0",
   "metadata": {
    "papermill": {
     "duration": 0.011525,
     "end_time": "2023-10-26T18:16:50.127706",
     "exception": false,
     "start_time": "2023-10-26T18:16:50.116181",
     "status": "completed"
    },
    "tags": []
   },
   "outputs": [],
   "source": []
  },
  {
   "cell_type": "code",
   "execution_count": null,
   "id": "354891c4",
   "metadata": {
    "papermill": {
     "duration": 0.011357,
     "end_time": "2023-10-26T18:16:50.151071",
     "exception": false,
     "start_time": "2023-10-26T18:16:50.139714",
     "status": "completed"
    },
    "tags": []
   },
   "outputs": [],
   "source": []
  }
 ],
 "metadata": {
  "kernelspec": {
   "display_name": "Python 3",
   "language": "python",
   "name": "python3"
  },
  "language_info": {
   "codemirror_mode": {
    "name": "ipython",
    "version": 3
   },
   "file_extension": ".py",
   "mimetype": "text/x-python",
   "name": "python",
   "nbconvert_exporter": "python",
   "pygments_lexer": "ipython3",
   "version": "3.10.12"
  },
  "papermill": {
   "default_parameters": {},
   "duration": 23.227086,
   "end_time": "2023-10-26T18:16:50.784524",
   "environment_variables": {},
   "exception": null,
   "input_path": "__notebook__.ipynb",
   "output_path": "__notebook__.ipynb",
   "parameters": {},
   "start_time": "2023-10-26T18:16:27.557438",
   "version": "2.4.0"
  }
 },
 "nbformat": 4,
 "nbformat_minor": 5
}
